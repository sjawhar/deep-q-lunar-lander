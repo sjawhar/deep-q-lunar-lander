{
 "cells": [
  {
   "cell_type": "code",
   "execution_count": null,
   "metadata": {},
   "outputs": [],
   "source": [
    "import gym\n",
    "env = gym.make('LunarLander-v2')"
   ]
  },
  {
   "cell_type": "code",
   "execution_count": null,
   "metadata": {},
   "outputs": [],
   "source": [
    "from solver import LunarLanderSolver\n",
    "from learner_keras import MultiOutNN\n",
    "\n",
    "layer_sizes = (\n",
    "    env.observation_space.shape[0],\n",
    "    25 * env.observation_space.shape[0],\n",
    "    25 * env.observation_space.shape[0],\n",
    "    env.action_space.n\n",
    ")\n",
    "learning_rate_init= 0.001\n",
    "weight_init = 0.1\n",
    "bias_init = -0.001\n",
    "\n",
    "learner = MultiOutNN(\n",
    "    layer_sizes = layer_sizes,\n",
    "    learning_rate_init = learning_rate_init,\n",
    "    weight_init = weight_init,\n",
    "    bias_init = bias_init\n",
    ")\n",
    "\n",
    "init_episodes = 100\n",
    "train_episodes = 5000\n",
    "epsilon_decay = 0.99\n",
    "min_epsilon = 0.1\n",
    "gamma = 0.99\n",
    "train_size = 128\n",
    "average = 100\n",
    "experience = 50000\n",
    "\n",
    "solver = LunarLanderSolver(\n",
    "    env = env,\n",
    "    learner = learner,\n",
    "    epsilon_decay = epsilon_decay,\n",
    "    min_epsilon = min_epsilon,\n",
    "    gamma = gamma,\n",
    "    init_episodes = init_episodes,\n",
    "    train_episodes = train_episodes,\n",
    "    train_size = train_size,\n",
    "    average = average,\n",
    "    experience = experience\n",
    ")"
   ]
  },
  {
   "cell_type": "code",
   "execution_count": null,
   "metadata": {},
   "outputs": [],
   "source": [
    "solver.solve()"
   ]
  }
 ],
 "metadata": {
  "kernelspec": {
   "display_name": "Python 3",
   "language": "python",
   "name": "python3"
  },
  "language_info": {
   "codemirror_mode": {
    "name": "ipython",
    "version": 3
   },
   "file_extension": ".py",
   "mimetype": "text/x-python",
   "name": "python",
   "nbconvert_exporter": "python",
   "pygments_lexer": "ipython3",
   "version": "3.6.1"
  }
 },
 "nbformat": 4,
 "nbformat_minor": 2
}
