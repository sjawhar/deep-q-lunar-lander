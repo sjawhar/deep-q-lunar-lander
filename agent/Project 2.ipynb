{
 "cells": [
  {
   "cell_type": "code",
   "execution_count": null,
   "metadata": {},
   "outputs": [],
   "source": [
    "from solver import LunarLanderSolver\n",
    "import gym\n",
    "\n",
    "gamma = 0.9\n",
    "alpha = 0.1\n",
    "decay = 0.9999\n",
    "training_rounds = 1000000\n",
    "\n",
    "env = gym.make('LunarLander-v2')\n",
    "\n",
    "solver = LunarLanderSolver(env, gamma=gamma, alpha=alpha, decay=decay, training_rounds=training_rounds)\n",
    "solver.solve()"
   ]
  },
  {
   "cell_type": "code",
   "execution_count": null,
   "metadata": {
    "collapsed": true
   },
   "outputs": [],
   "source": []
  }
 ],
 "metadata": {
  "kernelspec": {
   "display_name": "Python 3",
   "language": "python",
   "name": "python3"
  },
  "language_info": {
   "codemirror_mode": {
    "name": "ipython",
    "version": 3
   },
   "file_extension": ".py",
   "mimetype": "text/x-python",
   "name": "python",
   "nbconvert_exporter": "python",
   "pygments_lexer": "ipython3",
   "version": "3.5.2"
  }
 },
 "nbformat": 4,
 "nbformat_minor": 2
}
