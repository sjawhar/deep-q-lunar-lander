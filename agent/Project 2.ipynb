{
 "cells": [
  {
   "cell_type": "code",
   "execution_count": 2,
   "metadata": {},
   "outputs": [
    {
     "name": "stderr",
     "output_type": "stream",
     "text": [
      "[2017-06-28 01:48:45,557] Making new env: LunarLander-v2\n"
     ]
    }
   ],
   "source": [
    "from solver import LunarLanderSolver\n",
    "import gym\n",
    "\n",
    "init_episodes = 10000\n",
    "train_episodes = 10000\n",
    "train_rounds = 100\n",
    "decay = 0.01 ** (1.0 / (init_episodes + train_episodes * train_rounds))\n",
    "\n",
    "env = gym.make('LunarLander-v2')\n",
    "solver = LunarLanderSolver(\n",
    "    env,\n",
    "    decay=decay,\n",
    "    init_episodes=init_episodes,\n",
    "    train_episodes=train_episodes,\n",
    "    train_rounds=train_rounds\n",
    ")"
   ]
  },
  {
   "cell_type": "code",
   "execution_count": null,
   "metadata": {
    "collapsed": true
   },
   "outputs": [],
   "source": [
    "solver.solve()"
   ]
  },
  {
   "cell_type": "code",
   "execution_count": 26,
   "metadata": {},
   "outputs": [],
   "source": [
    "import time\n",
    "from sklearn.externals import joblib\n",
    "import os\n",
    "trial = \"test\"\n",
    "\n",
    "if not os.path.isdir(\"./trials/{}\".format(trial)):\n",
    "    os.makedirs(\"./trials/{}\".format(trial))\n",
    "    joblib.dump(solver.epsilon, \"trials/{}/epsilon.pkl\".format(trial))\n",
    "    for learner in range(len(solver.learners)):\n",
    "        joblib.dump(solver.learners[learner], \"trials/{}/learner_{}.pkl\".format(trial, learner))"
   ]
  },
  {
   "cell_type": "code",
   "execution_count": 29,
   "metadata": {},
   "outputs": [],
   "source": [
    "trial = 1\n",
    "solver.epsilon = joblib.load(\"trials/{}/epsilon.pkl\".format(trial))\n",
    "solver.learners = [None] * 4\n",
    "for learner in range(len(solver.learners)):\n",
    "    solver.learners[learner] = joblib.load(\"trials/{}/learner_{}.pkl\".format(trial, learner))"
   ]
  },
  {
   "cell_type": "code",
   "execution_count": 30,
   "metadata": {},
   "outputs": [
    {
     "name": "stdout",
     "output_type": "stream",
     "text": [
      "-229.130297533\n"
     ]
    }
   ],
   "source": [
    "from IPython import display\n",
    "%matplotlib inline\n",
    "display.clear_output(wait=True)\n",
    "solver.epsilon = float('-inf')\n",
    "rewards = []\n",
    "num_trials = 100\n",
    "for _ in range(num_trials):\n",
    "    total_reward = 0\n",
    "    observation = solver.env.reset()\n",
    "    for __ in range(solver.env.spec.timestep_limit):\n",
    "        prev_observation = observation\n",
    "        action = solver.get_next_action(observation)\n",
    "        observation, reward, done, info = solver.env.step(action)\n",
    "        total_reward += reward\n",
    "\n",
    "        if done:\n",
    "            break\n",
    "    rewards.append(total_reward)\n",
    "print(sum(rewards)/num_trials)"
   ]
  },
  {
   "cell_type": "code",
   "execution_count": null,
   "metadata": {
    "collapsed": true
   },
   "outputs": [],
   "source": []
  }
 ],
 "metadata": {
  "kernelspec": {
   "display_name": "Python 3",
   "language": "python",
   "name": "python3"
  },
  "language_info": {
   "codemirror_mode": {
    "name": "ipython",
    "version": 3
   },
   "file_extension": ".py",
   "mimetype": "text/x-python",
   "name": "python",
   "nbconvert_exporter": "python",
   "pygments_lexer": "ipython3",
   "version": "3.5.2"
  }
 },
 "nbformat": 4,
 "nbformat_minor": 2
}
